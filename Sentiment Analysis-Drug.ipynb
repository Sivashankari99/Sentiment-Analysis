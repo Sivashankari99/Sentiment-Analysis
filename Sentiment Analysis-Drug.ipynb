{
  "nbformat": 4,
  "nbformat_minor": 0,
  "metadata": {
    "colab": {
      "name": "Untitled0.ipynb",
      "provenance": [],
      "mount_file_id": "1CkXv57ecB9FVZD_EVIuKspwPC4WwoLdX",
      "authorship_tag": "ABX9TyP3gQt7IbKW+Qzka5d8shVt",
      "include_colab_link": true
    },
    "kernelspec": {
      "name": "python3",
      "display_name": "Python 3"
    }
  },
  "cells": [
    {
      "cell_type": "markdown",
      "metadata": {
        "id": "view-in-github",
        "colab_type": "text"
      },
      "source": [
        "<a href=\"https://colab.research.google.com/github/Sivashankari99/Sentiment-Analysis/blob/main/Sentiment%20Analysis-Drug.ipynb\" target=\"_parent\"><img src=\"https://colab.research.google.com/assets/colab-badge.svg\" alt=\"Open In Colab\"/></a>"
      ]
    },
    {
      "cell_type": "code",
      "metadata": {
        "colab": {
          "base_uri": "https://localhost:8080/"
        },
        "id": "WZg74Sqi_CmX",
        "outputId": "05656e77-d83e-4c77-e0d0-8ddeac674ae3"
      },
      "source": [
        "pip install catboost"
      ],
      "execution_count": null,
      "outputs": [
        {
          "output_type": "stream",
          "text": [
            "Collecting catboost\n",
            "\u001b[?25l  Downloading https://files.pythonhosted.org/packages/20/37/bc4e0ddc30c07a96482abf1de7ed1ca54e59bba2026a33bca6d2ef286e5b/catboost-0.24.4-cp36-none-manylinux1_x86_64.whl (65.7MB)\n",
            "\u001b[K     |████████████████████████████████| 65.8MB 58kB/s \n",
            "\u001b[?25hRequirement already satisfied: matplotlib in /usr/local/lib/python3.6/dist-packages (from catboost) (3.2.2)\n",
            "Requirement already satisfied: scipy in /usr/local/lib/python3.6/dist-packages (from catboost) (1.4.1)\n",
            "Requirement already satisfied: plotly in /usr/local/lib/python3.6/dist-packages (from catboost) (4.4.1)\n",
            "Requirement already satisfied: graphviz in /usr/local/lib/python3.6/dist-packages (from catboost) (0.10.1)\n",
            "Requirement already satisfied: numpy>=1.16.0 in /usr/local/lib/python3.6/dist-packages (from catboost) (1.19.5)\n",
            "Requirement already satisfied: six in /usr/local/lib/python3.6/dist-packages (from catboost) (1.15.0)\n",
            "Requirement already satisfied: pandas>=0.24.0 in /usr/local/lib/python3.6/dist-packages (from catboost) (1.1.5)\n",
            "Requirement already satisfied: cycler>=0.10 in /usr/local/lib/python3.6/dist-packages (from matplotlib->catboost) (0.10.0)\n",
            "Requirement already satisfied: kiwisolver>=1.0.1 in /usr/local/lib/python3.6/dist-packages (from matplotlib->catboost) (1.3.1)\n",
            "Requirement already satisfied: pyparsing!=2.0.4,!=2.1.2,!=2.1.6,>=2.0.1 in /usr/local/lib/python3.6/dist-packages (from matplotlib->catboost) (2.4.7)\n",
            "Requirement already satisfied: python-dateutil>=2.1 in /usr/local/lib/python3.6/dist-packages (from matplotlib->catboost) (2.8.1)\n",
            "Requirement already satisfied: retrying>=1.3.3 in /usr/local/lib/python3.6/dist-packages (from plotly->catboost) (1.3.3)\n",
            "Requirement already satisfied: pytz>=2017.2 in /usr/local/lib/python3.6/dist-packages (from pandas>=0.24.0->catboost) (2018.9)\n",
            "Installing collected packages: catboost\n",
            "Successfully installed catboost-0.24.4\n"
          ],
          "name": "stdout"
        }
      ]
    },
    {
      "cell_type": "code",
      "metadata": {
        "id": "IEbfprNh8a_F"
      },
      "source": [
        "# Dataframe\r\n",
        "import pandas as pd\r\n",
        "\r\n",
        "# Array\r\n",
        "import numpy as np\r\n",
        "import itertools\r\n",
        "\r\n",
        "# Decompress the file\r\n",
        "import gzip\r\n",
        "\r\n",
        "# Visualizations\r\n",
        "import matplotlib.pyplot as plt\r\n",
        "from matplotlib.colors import ListedColormap\r\n",
        "import seaborn as sns\r\n",
        "import matplotlib.colors as colors\r\n",
        "%matplotlib inline\r\n",
        "from wordcloud import WordCloud, STOPWORDS\r\n",
        "\r\n",
        "# Datetime\r\n",
        "from datetime import datetime\r\n",
        "\r\n",
        "# text preprocessing\r\n",
        "import spacy\r\n",
        "import nltk\r\n",
        "from nltk.corpus import stopwords\r\n",
        "from nltk.stem import PorterStemmer, WordNetLemmatizer\r\n",
        "from nltk.tokenize import word_tokenize, sent_tokenize, regexp_tokenize\r\n",
        "from nltk.tokenize import RegexpTokenizer\r\n",
        "from nltk.tokenize.toktok import ToktokTokenizer\r\n",
        "import gensim\r\n",
        "import re\r\n",
        "\r\n",
        "\r\n",
        "import unicodedata\r\n",
        "tokenizer = ToktokTokenizer()\r\n",
        "nlp = spacy.load('en', parse=True, tag=True, entity=True)\r\n",
        "\r\n",
        "## Modeling\r\n",
        "from sklearn.model_selection import cross_validate\r\n",
        "from sklearn.model_selection import train_test_split\r\n",
        "from sklearn.model_selection import StratifiedKFold\r\n",
        "from sklearn.model_selection import GridSearchCV\r\n",
        "from sklearn.model_selection import cross_val_predict\r\n",
        "from sklearn.model_selection import cross_val_score\r\n",
        "from sklearn.linear_model import LogisticRegression\r\n",
        "from sklearn.model_selection import learning_curve\r\n",
        "from sklearn.ensemble import ExtraTreesClassifier\r\n",
        "from sklearn.decomposition import TruncatedSVD\r\n",
        "from sklearn.feature_extraction.text import TfidfVectorizer, CountVectorizer, HashingVectorizer\r\n",
        "from sklearn.pipeline import Pipeline\r\n",
        "from sklearn.naive_bayes import MultinomialNB\r\n",
        "from catboost import CatBoostClassifier, Pool\r\n",
        "from sklearn.naive_bayes import GaussianNB \r\n",
        "from sklearn.svm import SVC\r\n",
        "from sklearn import metrics\r\n",
        "from sklearn.metrics import classification_report\r\n",
        "from sklearn.metrics import confusion_matrix\r\n",
        "from  sklearn.metrics import precision_recall_fscore_support\r\n",
        "from sklearn.ensemble import RandomForestClassifier\r\n",
        "from sklearn.tree import DecisionTreeClassifier\r\n",
        "from sklearn.metrics import f1_score\r\n",
        "from sklearn.metrics import recall_score\r\n",
        "from gensim.models import Word2Vec\r\n",
        "from tqdm import tqdm\r\n",
        "import xgboost as xgb\r\n",
        "from xgboost import XGBClassifier\r\n",
        "from sklearn.dummy import DummyClassifier\r\n",
        "\r\n",
        "## Warnings\r\n",
        "import warnings\r\n",
        "from scipy import stats\r\n",
        "warnings.filterwarnings('ignore')"
      ],
      "execution_count": null,
      "outputs": []
    },
    {
      "cell_type": "code",
      "metadata": {
        "id": "J6ZUcdUr9qho"
      },
      "source": [
        "import os\r\n",
        "os.environ['KMP_DUPLICATE_LIB_OK']='True'\r\n",
        "from xgboost import XGBClassifier"
      ],
      "execution_count": null,
      "outputs": []
    },
    {
      "cell_type": "code",
      "metadata": {
        "colab": {
          "base_uri": "https://localhost:8080/"
        },
        "id": "85prqAEEDxgH",
        "outputId": "f34b5ae0-fbc5-451e-bf42-1d16cc16e5f2"
      },
      "source": [
        "from google.colab import drive\r\n",
        "drive.mount(\"/content/drive\")"
      ],
      "execution_count": null,
      "outputs": [
        {
          "output_type": "stream",
          "text": [
            "Drive already mounted at /content/drive; to attempt to forcibly remount, call drive.mount(\"/content/drive\", force_remount=True).\n"
          ],
          "name": "stdout"
        }
      ]
    },
    {
      "cell_type": "code",
      "metadata": {
        "id": "YHhcyJWpEyIX"
      },
      "source": [
        "path = \"/content/recommend.csv\"\r\n",
        "df4 = pd.read_csv(path)"
      ],
      "execution_count": null,
      "outputs": []
    },
    {
      "cell_type": "code",
      "metadata": {
        "colab": {
          "base_uri": "https://localhost:8080/",
          "height": 159
        },
        "id": "bb3s40dw97hk",
        "outputId": "151214b6-b56d-4c7b-8203-493b45847bc6"
      },
      "source": [
        "# Sample observations\r\n",
        "df4.head(3)"
      ],
      "execution_count": null,
      "outputs": [
        {
          "output_type": "execute_result",
          "data": {
            "text/html": [
              "<div>\n",
              "<style scoped>\n",
              "    .dataframe tbody tr th:only-of-type {\n",
              "        vertical-align: middle;\n",
              "    }\n",
              "\n",
              "    .dataframe tbody tr th {\n",
              "        vertical-align: top;\n",
              "    }\n",
              "\n",
              "    .dataframe thead th {\n",
              "        text-align: right;\n",
              "    }\n",
              "</style>\n",
              "<table border=\"1\" class=\"dataframe\">\n",
              "  <thead>\n",
              "    <tr style=\"text-align: right;\">\n",
              "      <th></th>\n",
              "      <th>uniqueID</th>\n",
              "      <th>drugName</th>\n",
              "      <th>review</th>\n",
              "      <th>rating</th>\n",
              "      <th>usefulCount</th>\n",
              "      <th>rating_class</th>\n",
              "      <th>rating_class_num</th>\n",
              "      <th>clean_text</th>\n",
              "      <th>year</th>\n",
              "      <th>review_length</th>\n",
              "    </tr>\n",
              "  </thead>\n",
              "  <tbody>\n",
              "    <tr>\n",
              "      <th>0</th>\n",
              "      <td>92703</td>\n",
              "      <td>Lybrel</td>\n",
              "      <td>\"I used to take another oral contraceptive, wh...</td>\n",
              "      <td>5</td>\n",
              "      <td>17</td>\n",
              "      <td>good</td>\n",
              "      <td>1</td>\n",
              "      <td>use take another oral contraceptive pill cycle...</td>\n",
              "      <td>2009</td>\n",
              "      <td>166</td>\n",
              "    </tr>\n",
              "    <tr>\n",
              "      <th>1</th>\n",
              "      <td>138000</td>\n",
              "      <td>Ortho Evra</td>\n",
              "      <td>\"This is my first time using any form of birth...</td>\n",
              "      <td>8</td>\n",
              "      <td>10</td>\n",
              "      <td>good</td>\n",
              "      <td>1</td>\n",
              "      <td>first time use form birth control im glad go p...</td>\n",
              "      <td>2015</td>\n",
              "      <td>104</td>\n",
              "    </tr>\n",
              "    <tr>\n",
              "      <th>2</th>\n",
              "      <td>48928</td>\n",
              "      <td>Ethinyl estradiol / levonorgestrel</td>\n",
              "      <td>\"I had been on the pill for many years. When m...</td>\n",
              "      <td>8</td>\n",
              "      <td>1</td>\n",
              "      <td>good</td>\n",
              "      <td>1</td>\n",
              "      <td>pill many years doctor change rx chateal effec...</td>\n",
              "      <td>2016</td>\n",
              "      <td>176</td>\n",
              "    </tr>\n",
              "  </tbody>\n",
              "</table>\n",
              "</div>"
            ],
            "text/plain": [
              "   uniqueID                            drugName  ...  year  review_length\n",
              "0     92703                              Lybrel  ...  2009            166\n",
              "1    138000                          Ortho Evra  ...  2015            104\n",
              "2     48928  Ethinyl estradiol / levonorgestrel  ...  2016            176\n",
              "\n",
              "[3 rows x 10 columns]"
            ]
          },
          "metadata": {
            "tags": []
          },
          "execution_count": 6
        }
      ]
    },
    {
      "cell_type": "code",
      "metadata": {
        "colab": {
          "base_uri": "https://localhost:8080/"
        },
        "id": "Yd77Gg2898M3",
        "outputId": "ee337585-9d31-4f30-a93f-6e088e475c86"
      },
      "source": [
        "df4.info()"
      ],
      "execution_count": null,
      "outputs": [
        {
          "output_type": "stream",
          "text": [
            "<class 'pandas.core.frame.DataFrame'>\n",
            "RangeIndex: 38436 entries, 0 to 38435\n",
            "Data columns (total 10 columns):\n",
            " #   Column            Non-Null Count  Dtype \n",
            "---  ------            --------------  ----- \n",
            " 0   uniqueID          38436 non-null  int64 \n",
            " 1   drugName          38436 non-null  object\n",
            " 2   review            38436 non-null  object\n",
            " 3   rating            38436 non-null  int64 \n",
            " 4   usefulCount       38436 non-null  int64 \n",
            " 5   rating_class      38436 non-null  object\n",
            " 6   rating_class_num  38436 non-null  int64 \n",
            " 7   clean_text        38436 non-null  object\n",
            " 8   year              38436 non-null  int64 \n",
            " 9   review_length     38436 non-null  int64 \n",
            "dtypes: int64(6), object(4)\n",
            "memory usage: 2.9+ MB\n"
          ],
          "name": "stdout"
        }
      ]
    },
    {
      "cell_type": "code",
      "metadata": {
        "id": "D2epKUu_9-TF"
      },
      "source": [
        "df4['rating_class'] = df4['rating_class'].apply(lambda x: 0 if x == 'bad' else 1)"
      ],
      "execution_count": null,
      "outputs": []
    },
    {
      "cell_type": "code",
      "metadata": {
        "id": "KvYllnEZ-JTr"
      },
      "source": [
        "# Splitting the Data Set into Train and Test Sets\r\n",
        "X = df4['clean_text']\r\n",
        "y = df4['rating_class']"
      ],
      "execution_count": null,
      "outputs": []
    },
    {
      "cell_type": "code",
      "metadata": {
        "id": "sQD1FjCL-LXm"
      },
      "source": [
        "# Splitting Dataset into train and test set \r\n",
        "X_train, X_test, y_train, y_test = train_test_split(X, y, test_size=0.25, random_state=42)"
      ],
      "execution_count": null,
      "outputs": []
    },
    {
      "cell_type": "code",
      "metadata": {
        "colab": {
          "base_uri": "https://localhost:8080/"
        },
        "id": "kI380cuX-Nfv",
        "outputId": "a449dfdf-cecb-4e4a-8d91-dd5ea981a01f"
      },
      "source": [
        "# Print train and test set shape\r\n",
        "print ('Train Set Shape\\t\\t:{}\\nTest Set Shape\\t\\t:{}'.format(X_train.shape, X_test.shape))"
      ],
      "execution_count": null,
      "outputs": [
        {
          "output_type": "stream",
          "text": [
            "Train Set Shape\t\t:(28827,)\n",
            "Test Set Shape\t\t:(9609,)\n"
          ],
          "name": "stdout"
        }
      ]
    },
    {
      "cell_type": "code",
      "metadata": {
        "id": "-ITEzAp5-PiD"
      },
      "source": [
        "def plot_confusion_matrix(cm, classes,\r\n",
        "                          normalize=False,\r\n",
        "                          title = 'Confusion matrix',\r\n",
        "                          cmap = plt.cm.ocean):\r\n",
        "    \"\"\"\r\n",
        "    Create a confusion matrix plot for 'good' and 'bad' rating values \r\n",
        "    \"\"\"\r\n",
        "    if normalize:\r\n",
        "        cm = cm.astype('float') / cm.sum(axis = 1)[:, np.newaxis]\r\n",
        "    plt.imshow(cm, interpolation = 'nearest', cmap = cmap)\r\n",
        "    plt.title(title, fontsize = 20)\r\n",
        "    plt.colorbar()\r\n",
        "    tick_marks = np.arange(len(classes))\r\n",
        "    plt.xticks(tick_marks, classes, fontsize = 20)\r\n",
        "    plt.yticks(tick_marks, classes, fontsize = 20)\r\n",
        "    \r\n",
        "    fmt = '.2f' if normalize else 'd'\r\n",
        "    thresh = cm.max() / 2.\r\n",
        "\r\n",
        "    for i, j in itertools.product(range(cm.shape[0]), range(cm.shape[1])):\r\n",
        "        plt.text(j, i, format(cm[i, j], fmt), horizontalalignment = \"center\", \r\n",
        "                 color = \"white\" if cm[i, j] < thresh else \"black\", fontsize = 40)\r\n",
        "    \r\n",
        "    plt.tight_layout()\r\n",
        "    plt.ylabel('True Label', fontsize = 30)\r\n",
        "    plt.xlabel('Predicted Label', fontsize = 30)\r\n",
        "\r\n",
        "    return plt"
      ],
      "execution_count": null,
      "outputs": []
    },
    {
      "cell_type": "code",
      "metadata": {
        "id": "hue9zL6n-TZG"
      },
      "source": [
        "def disp_confusion_matrix(y_pred, model_name, vector = 'CounterVectorizing'):\r\n",
        "    \"\"\"\r\n",
        "    Display confusion matrix for selected model with countVectorizer\r\n",
        "    \"\"\"\r\n",
        "    cm = confusion_matrix(y_test, y_pred)\r\n",
        "    fig = plt.figure(figsize=(10, 10))\r\n",
        "    plot = plot_confusion_matrix(cm, classes=['Bad','Good'], normalize=False, \r\n",
        "                                 title = model_name + \" \" + 'with' + \" \" + vector + \" \"+ '\\nConfusion Matrix')\r\n",
        "    plt.show()"
      ],
      "execution_count": null,
      "outputs": []
    },
    {
      "cell_type": "code",
      "metadata": {
        "id": "aXbS-IZu_Zf_"
      },
      "source": [
        "# Create the word vector with CountVectorizer\r\n",
        "count_vect = CountVectorizer(ngram_range=(1,1))\r\n",
        "count_vect_train = count_vect.fit_transform(X_train)\r\n",
        "count_vect_train = count_vect_train.toarray()\r\n",
        "count_vect_test = count_vect.transform(X_test)\r\n",
        "count_vect_test = count_vect_test.toarray()"
      ],
      "execution_count": null,
      "outputs": []
    },
    {
      "cell_type": "code",
      "metadata": {
        "colab": {
          "base_uri": "https://localhost:8080/"
        },
        "id": "EqPG0o_s_dSZ",
        "outputId": "0606f8b6-6aea-443f-bf40-069df17cd17b"
      },
      "source": [
        "# Print vocabulary length\r\n",
        "print('Vocabulary length :', len(count_vect.get_feature_names()))"
      ],
      "execution_count": null,
      "outputs": [
        {
          "output_type": "stream",
          "text": [
            "Vocabulary length : 13649\n"
          ],
          "name": "stdout"
        }
      ]
    },
    {
      "cell_type": "code",
      "metadata": {
        "id": "mHOHHssd_fTZ"
      },
      "source": [
        "# Assign feature names of vector into a variable\r\n",
        "vocab = count_vect.get_feature_names()"
      ],
      "execution_count": null,
      "outputs": []
    },
    {
      "cell_type": "code",
      "metadata": {
        "colab": {
          "base_uri": "https://localhost:8080/",
          "height": 253
        },
        "id": "xuTb7fem_iYq",
        "outputId": "0e170498-6e89-4558-81b9-cf26521ba373"
      },
      "source": [
        "# Dataframe for train countvectorizer dataset\r\n",
        "pd.DataFrame(count_vect_train, columns = vocab).head()"
      ],
      "execution_count": null,
      "outputs": [
        {
          "output_type": "execute_result",
          "data": {
            "text/html": [
              "<div>\n",
              "<style scoped>\n",
              "    .dataframe tbody tr th:only-of-type {\n",
              "        vertical-align: middle;\n",
              "    }\n",
              "\n",
              "    .dataframe tbody tr th {\n",
              "        vertical-align: top;\n",
              "    }\n",
              "\n",
              "    .dataframe thead th {\n",
              "        text-align: right;\n",
              "    }\n",
              "</style>\n",
              "<table border=\"1\" class=\"dataframe\">\n",
              "  <thead>\n",
              "    <tr style=\"text-align: right;\">\n",
              "      <th></th>\n",
              "      <th>aa</th>\n",
              "      <th>aaand</th>\n",
              "      <th>ab</th>\n",
              "      <th>abandon</th>\n",
              "      <th>abd</th>\n",
              "      <th>abdomen</th>\n",
              "      <th>abdomin</th>\n",
              "      <th>abdominal</th>\n",
              "      <th>abdominals</th>\n",
              "      <th>abdomonal</th>\n",
              "      <th>abe</th>\n",
              "      <th>abhorrent</th>\n",
              "      <th>abide</th>\n",
              "      <th>abile</th>\n",
              "      <th>abilities</th>\n",
              "      <th>ability</th>\n",
              "      <th>abit</th>\n",
              "      <th>abiut</th>\n",
              "      <th>ablation</th>\n",
              "      <th>ablationso</th>\n",
              "      <th>able</th>\n",
              "      <th>abnormal</th>\n",
              "      <th>abnormalities</th>\n",
              "      <th>abnormality</th>\n",
              "      <th>abnormally</th>\n",
              "      <th>abnormalpainful</th>\n",
              "      <th>abodinal</th>\n",
              "      <th>abornmal</th>\n",
              "      <th>abort</th>\n",
              "      <th>abortion</th>\n",
              "      <th>abortionand</th>\n",
              "      <th>abortions</th>\n",
              "      <th>aboutafter</th>\n",
              "      <th>aboutstuff</th>\n",
              "      <th>abrasions</th>\n",
              "      <th>abroad</th>\n",
              "      <th>abruptly</th>\n",
              "      <th>abs</th>\n",
              "      <th>abscesses</th>\n",
              "      <th>absence</th>\n",
              "      <th>...</th>\n",
              "      <th>youtube</th>\n",
              "      <th>youve</th>\n",
              "      <th>youyou</th>\n",
              "      <th>yoyo</th>\n",
              "      <th>yr</th>\n",
              "      <th>yrold</th>\n",
              "      <th>yrs</th>\n",
              "      <th>yrsdecided</th>\n",
              "      <th>yrsfrom</th>\n",
              "      <th>yuck</th>\n",
              "      <th>yucky</th>\n",
              "      <th>yup</th>\n",
              "      <th>yupeee</th>\n",
              "      <th>yy</th>\n",
              "      <th>zap</th>\n",
              "      <th>zarah</th>\n",
              "      <th>zarrah</th>\n",
              "      <th>zenchent</th>\n",
              "      <th>zero</th>\n",
              "      <th>zerotolerance</th>\n",
              "      <th>zest</th>\n",
              "      <th>zika</th>\n",
              "      <th>zilch</th>\n",
              "      <th>zinc</th>\n",
              "      <th>zip</th>\n",
              "      <th>zit</th>\n",
              "      <th>zits</th>\n",
              "      <th>zitsbumpsacne</th>\n",
              "      <th>zitspimples</th>\n",
              "      <th>zoelly</th>\n",
              "      <th>zofran</th>\n",
              "      <th>zoloft</th>\n",
              "      <th>zombie</th>\n",
              "      <th>zombiei</th>\n",
              "      <th>zomby</th>\n",
              "      <th>zone</th>\n",
              "      <th>zoom</th>\n",
              "      <th>zovia</th>\n",
              "      <th>zulane</th>\n",
              "      <th>zumba</th>\n",
              "    </tr>\n",
              "  </thead>\n",
              "  <tbody>\n",
              "    <tr>\n",
              "      <th>0</th>\n",
              "      <td>0</td>\n",
              "      <td>0</td>\n",
              "      <td>0</td>\n",
              "      <td>0</td>\n",
              "      <td>0</td>\n",
              "      <td>0</td>\n",
              "      <td>0</td>\n",
              "      <td>0</td>\n",
              "      <td>0</td>\n",
              "      <td>0</td>\n",
              "      <td>0</td>\n",
              "      <td>0</td>\n",
              "      <td>0</td>\n",
              "      <td>0</td>\n",
              "      <td>0</td>\n",
              "      <td>0</td>\n",
              "      <td>0</td>\n",
              "      <td>0</td>\n",
              "      <td>0</td>\n",
              "      <td>0</td>\n",
              "      <td>0</td>\n",
              "      <td>0</td>\n",
              "      <td>0</td>\n",
              "      <td>0</td>\n",
              "      <td>0</td>\n",
              "      <td>0</td>\n",
              "      <td>0</td>\n",
              "      <td>0</td>\n",
              "      <td>0</td>\n",
              "      <td>0</td>\n",
              "      <td>0</td>\n",
              "      <td>0</td>\n",
              "      <td>0</td>\n",
              "      <td>0</td>\n",
              "      <td>0</td>\n",
              "      <td>0</td>\n",
              "      <td>0</td>\n",
              "      <td>0</td>\n",
              "      <td>0</td>\n",
              "      <td>0</td>\n",
              "      <td>...</td>\n",
              "      <td>0</td>\n",
              "      <td>0</td>\n",
              "      <td>0</td>\n",
              "      <td>0</td>\n",
              "      <td>0</td>\n",
              "      <td>0</td>\n",
              "      <td>0</td>\n",
              "      <td>0</td>\n",
              "      <td>0</td>\n",
              "      <td>0</td>\n",
              "      <td>0</td>\n",
              "      <td>0</td>\n",
              "      <td>0</td>\n",
              "      <td>0</td>\n",
              "      <td>0</td>\n",
              "      <td>0</td>\n",
              "      <td>0</td>\n",
              "      <td>0</td>\n",
              "      <td>0</td>\n",
              "      <td>0</td>\n",
              "      <td>0</td>\n",
              "      <td>0</td>\n",
              "      <td>0</td>\n",
              "      <td>0</td>\n",
              "      <td>0</td>\n",
              "      <td>0</td>\n",
              "      <td>0</td>\n",
              "      <td>0</td>\n",
              "      <td>0</td>\n",
              "      <td>0</td>\n",
              "      <td>0</td>\n",
              "      <td>0</td>\n",
              "      <td>0</td>\n",
              "      <td>0</td>\n",
              "      <td>0</td>\n",
              "      <td>0</td>\n",
              "      <td>0</td>\n",
              "      <td>0</td>\n",
              "      <td>0</td>\n",
              "      <td>0</td>\n",
              "    </tr>\n",
              "    <tr>\n",
              "      <th>1</th>\n",
              "      <td>0</td>\n",
              "      <td>0</td>\n",
              "      <td>0</td>\n",
              "      <td>0</td>\n",
              "      <td>0</td>\n",
              "      <td>0</td>\n",
              "      <td>0</td>\n",
              "      <td>0</td>\n",
              "      <td>0</td>\n",
              "      <td>0</td>\n",
              "      <td>0</td>\n",
              "      <td>0</td>\n",
              "      <td>0</td>\n",
              "      <td>0</td>\n",
              "      <td>0</td>\n",
              "      <td>0</td>\n",
              "      <td>0</td>\n",
              "      <td>0</td>\n",
              "      <td>0</td>\n",
              "      <td>0</td>\n",
              "      <td>0</td>\n",
              "      <td>0</td>\n",
              "      <td>0</td>\n",
              "      <td>0</td>\n",
              "      <td>0</td>\n",
              "      <td>0</td>\n",
              "      <td>0</td>\n",
              "      <td>0</td>\n",
              "      <td>0</td>\n",
              "      <td>0</td>\n",
              "      <td>0</td>\n",
              "      <td>0</td>\n",
              "      <td>0</td>\n",
              "      <td>0</td>\n",
              "      <td>0</td>\n",
              "      <td>0</td>\n",
              "      <td>0</td>\n",
              "      <td>0</td>\n",
              "      <td>0</td>\n",
              "      <td>0</td>\n",
              "      <td>...</td>\n",
              "      <td>0</td>\n",
              "      <td>0</td>\n",
              "      <td>0</td>\n",
              "      <td>0</td>\n",
              "      <td>0</td>\n",
              "      <td>0</td>\n",
              "      <td>0</td>\n",
              "      <td>0</td>\n",
              "      <td>0</td>\n",
              "      <td>0</td>\n",
              "      <td>0</td>\n",
              "      <td>0</td>\n",
              "      <td>0</td>\n",
              "      <td>0</td>\n",
              "      <td>0</td>\n",
              "      <td>0</td>\n",
              "      <td>0</td>\n",
              "      <td>0</td>\n",
              "      <td>0</td>\n",
              "      <td>0</td>\n",
              "      <td>0</td>\n",
              "      <td>0</td>\n",
              "      <td>0</td>\n",
              "      <td>0</td>\n",
              "      <td>0</td>\n",
              "      <td>0</td>\n",
              "      <td>0</td>\n",
              "      <td>0</td>\n",
              "      <td>0</td>\n",
              "      <td>0</td>\n",
              "      <td>0</td>\n",
              "      <td>0</td>\n",
              "      <td>0</td>\n",
              "      <td>0</td>\n",
              "      <td>0</td>\n",
              "      <td>0</td>\n",
              "      <td>0</td>\n",
              "      <td>0</td>\n",
              "      <td>0</td>\n",
              "      <td>0</td>\n",
              "    </tr>\n",
              "    <tr>\n",
              "      <th>2</th>\n",
              "      <td>0</td>\n",
              "      <td>0</td>\n",
              "      <td>0</td>\n",
              "      <td>0</td>\n",
              "      <td>0</td>\n",
              "      <td>0</td>\n",
              "      <td>0</td>\n",
              "      <td>0</td>\n",
              "      <td>0</td>\n",
              "      <td>0</td>\n",
              "      <td>0</td>\n",
              "      <td>0</td>\n",
              "      <td>0</td>\n",
              "      <td>0</td>\n",
              "      <td>0</td>\n",
              "      <td>0</td>\n",
              "      <td>0</td>\n",
              "      <td>0</td>\n",
              "      <td>0</td>\n",
              "      <td>0</td>\n",
              "      <td>0</td>\n",
              "      <td>0</td>\n",
              "      <td>0</td>\n",
              "      <td>0</td>\n",
              "      <td>0</td>\n",
              "      <td>0</td>\n",
              "      <td>0</td>\n",
              "      <td>0</td>\n",
              "      <td>0</td>\n",
              "      <td>0</td>\n",
              "      <td>0</td>\n",
              "      <td>0</td>\n",
              "      <td>0</td>\n",
              "      <td>0</td>\n",
              "      <td>0</td>\n",
              "      <td>0</td>\n",
              "      <td>0</td>\n",
              "      <td>0</td>\n",
              "      <td>0</td>\n",
              "      <td>0</td>\n",
              "      <td>...</td>\n",
              "      <td>0</td>\n",
              "      <td>0</td>\n",
              "      <td>0</td>\n",
              "      <td>0</td>\n",
              "      <td>0</td>\n",
              "      <td>0</td>\n",
              "      <td>0</td>\n",
              "      <td>0</td>\n",
              "      <td>0</td>\n",
              "      <td>0</td>\n",
              "      <td>0</td>\n",
              "      <td>0</td>\n",
              "      <td>0</td>\n",
              "      <td>0</td>\n",
              "      <td>0</td>\n",
              "      <td>0</td>\n",
              "      <td>0</td>\n",
              "      <td>0</td>\n",
              "      <td>0</td>\n",
              "      <td>0</td>\n",
              "      <td>0</td>\n",
              "      <td>0</td>\n",
              "      <td>0</td>\n",
              "      <td>0</td>\n",
              "      <td>0</td>\n",
              "      <td>0</td>\n",
              "      <td>0</td>\n",
              "      <td>0</td>\n",
              "      <td>0</td>\n",
              "      <td>0</td>\n",
              "      <td>0</td>\n",
              "      <td>0</td>\n",
              "      <td>0</td>\n",
              "      <td>0</td>\n",
              "      <td>0</td>\n",
              "      <td>0</td>\n",
              "      <td>0</td>\n",
              "      <td>0</td>\n",
              "      <td>0</td>\n",
              "      <td>0</td>\n",
              "    </tr>\n",
              "    <tr>\n",
              "      <th>3</th>\n",
              "      <td>0</td>\n",
              "      <td>0</td>\n",
              "      <td>0</td>\n",
              "      <td>0</td>\n",
              "      <td>0</td>\n",
              "      <td>0</td>\n",
              "      <td>0</td>\n",
              "      <td>0</td>\n",
              "      <td>0</td>\n",
              "      <td>0</td>\n",
              "      <td>0</td>\n",
              "      <td>0</td>\n",
              "      <td>0</td>\n",
              "      <td>0</td>\n",
              "      <td>0</td>\n",
              "      <td>0</td>\n",
              "      <td>0</td>\n",
              "      <td>0</td>\n",
              "      <td>0</td>\n",
              "      <td>0</td>\n",
              "      <td>0</td>\n",
              "      <td>0</td>\n",
              "      <td>0</td>\n",
              "      <td>0</td>\n",
              "      <td>0</td>\n",
              "      <td>0</td>\n",
              "      <td>0</td>\n",
              "      <td>0</td>\n",
              "      <td>0</td>\n",
              "      <td>0</td>\n",
              "      <td>0</td>\n",
              "      <td>0</td>\n",
              "      <td>0</td>\n",
              "      <td>0</td>\n",
              "      <td>0</td>\n",
              "      <td>0</td>\n",
              "      <td>0</td>\n",
              "      <td>0</td>\n",
              "      <td>0</td>\n",
              "      <td>0</td>\n",
              "      <td>...</td>\n",
              "      <td>0</td>\n",
              "      <td>0</td>\n",
              "      <td>0</td>\n",
              "      <td>0</td>\n",
              "      <td>0</td>\n",
              "      <td>0</td>\n",
              "      <td>0</td>\n",
              "      <td>0</td>\n",
              "      <td>0</td>\n",
              "      <td>0</td>\n",
              "      <td>0</td>\n",
              "      <td>0</td>\n",
              "      <td>0</td>\n",
              "      <td>0</td>\n",
              "      <td>0</td>\n",
              "      <td>0</td>\n",
              "      <td>0</td>\n",
              "      <td>0</td>\n",
              "      <td>0</td>\n",
              "      <td>0</td>\n",
              "      <td>0</td>\n",
              "      <td>0</td>\n",
              "      <td>0</td>\n",
              "      <td>0</td>\n",
              "      <td>0</td>\n",
              "      <td>0</td>\n",
              "      <td>0</td>\n",
              "      <td>0</td>\n",
              "      <td>0</td>\n",
              "      <td>0</td>\n",
              "      <td>0</td>\n",
              "      <td>0</td>\n",
              "      <td>0</td>\n",
              "      <td>0</td>\n",
              "      <td>0</td>\n",
              "      <td>0</td>\n",
              "      <td>0</td>\n",
              "      <td>0</td>\n",
              "      <td>0</td>\n",
              "      <td>0</td>\n",
              "    </tr>\n",
              "    <tr>\n",
              "      <th>4</th>\n",
              "      <td>0</td>\n",
              "      <td>0</td>\n",
              "      <td>0</td>\n",
              "      <td>0</td>\n",
              "      <td>0</td>\n",
              "      <td>0</td>\n",
              "      <td>0</td>\n",
              "      <td>0</td>\n",
              "      <td>0</td>\n",
              "      <td>0</td>\n",
              "      <td>0</td>\n",
              "      <td>0</td>\n",
              "      <td>0</td>\n",
              "      <td>0</td>\n",
              "      <td>0</td>\n",
              "      <td>0</td>\n",
              "      <td>0</td>\n",
              "      <td>0</td>\n",
              "      <td>0</td>\n",
              "      <td>0</td>\n",
              "      <td>0</td>\n",
              "      <td>0</td>\n",
              "      <td>0</td>\n",
              "      <td>0</td>\n",
              "      <td>0</td>\n",
              "      <td>0</td>\n",
              "      <td>0</td>\n",
              "      <td>0</td>\n",
              "      <td>0</td>\n",
              "      <td>0</td>\n",
              "      <td>0</td>\n",
              "      <td>0</td>\n",
              "      <td>0</td>\n",
              "      <td>0</td>\n",
              "      <td>0</td>\n",
              "      <td>0</td>\n",
              "      <td>0</td>\n",
              "      <td>0</td>\n",
              "      <td>0</td>\n",
              "      <td>0</td>\n",
              "      <td>...</td>\n",
              "      <td>0</td>\n",
              "      <td>0</td>\n",
              "      <td>0</td>\n",
              "      <td>0</td>\n",
              "      <td>0</td>\n",
              "      <td>0</td>\n",
              "      <td>0</td>\n",
              "      <td>0</td>\n",
              "      <td>0</td>\n",
              "      <td>0</td>\n",
              "      <td>0</td>\n",
              "      <td>0</td>\n",
              "      <td>0</td>\n",
              "      <td>0</td>\n",
              "      <td>0</td>\n",
              "      <td>0</td>\n",
              "      <td>0</td>\n",
              "      <td>0</td>\n",
              "      <td>0</td>\n",
              "      <td>0</td>\n",
              "      <td>0</td>\n",
              "      <td>0</td>\n",
              "      <td>0</td>\n",
              "      <td>0</td>\n",
              "      <td>0</td>\n",
              "      <td>0</td>\n",
              "      <td>0</td>\n",
              "      <td>0</td>\n",
              "      <td>0</td>\n",
              "      <td>0</td>\n",
              "      <td>0</td>\n",
              "      <td>0</td>\n",
              "      <td>0</td>\n",
              "      <td>0</td>\n",
              "      <td>0</td>\n",
              "      <td>0</td>\n",
              "      <td>0</td>\n",
              "      <td>0</td>\n",
              "      <td>0</td>\n",
              "      <td>0</td>\n",
              "    </tr>\n",
              "  </tbody>\n",
              "</table>\n",
              "<p>5 rows × 13649 columns</p>\n",
              "</div>"
            ],
            "text/plain": [
              "   aa  aaand  ab  abandon  abd  ...  zone  zoom  zovia  zulane  zumba\n",
              "0   0      0   0        0    0  ...     0     0      0       0      0\n",
              "1   0      0   0        0    0  ...     0     0      0       0      0\n",
              "2   0      0   0        0    0  ...     0     0      0       0      0\n",
              "3   0      0   0        0    0  ...     0     0      0       0      0\n",
              "4   0      0   0        0    0  ...     0     0      0       0      0\n",
              "\n",
              "[5 rows x 13649 columns]"
            ]
          },
          "metadata": {
            "tags": []
          },
          "execution_count": 14
        }
      ]
    },
    {
      "cell_type": "code",
      "metadata": {
        "id": "WT2mPfDQ_l_x"
      },
      "source": [
        "def modeling(Model, Xtrain = count_vect_train, Xtest = count_vect_test):\r\n",
        "    \"\"\"\r\n",
        "    This function apply countVectorizer with machine learning algorithms. \r\n",
        "    \"\"\"\r\n",
        "    \r\n",
        "    # Instantiate the classifier: model\r\n",
        "    model = Model\r\n",
        "    \r\n",
        "    # Fitting classifier to the Training set (all features)\r\n",
        "    model.fit(Xtrain, y_train)\r\n",
        "    \r\n",
        "    global y_pred\r\n",
        "    # Predicting the Test set results\r\n",
        "    y_pred = model.predict(Xtest)\r\n",
        "    \r\n",
        "    # Assign f1 score to a variable\r\n",
        "    score = f1_score(y_test, y_pred, average = 'weighted')\r\n",
        "    \r\n",
        "    # Printing evaluation metric (f1-score) \r\n",
        "    print(\"f1 score: {}\".format(score))"
      ],
      "execution_count": null,
      "outputs": []
    },
    {
      "cell_type": "code",
      "metadata": {
        "colab": {
          "base_uri": "https://localhost:8080/"
        },
        "id": "9PE13KhR_opJ",
        "outputId": "40766d99-03b0-4221-c384-0d59a3115bcb"
      },
      "source": [
        "clf = DummyClassifier(strategy = 'stratified', random_state =42)\r\n",
        "clf.fit(X_train, y_train)\r\n",
        "y_pred = clf.predict(X_test)\r\n",
        "score = f1_score(y_test, y_pred, average = 'weighted')\r\n",
        "    \r\n",
        "# Printing evaluation metric (f1-score) \r\n",
        "print(\"f1 score: {}\".format(score))"
      ],
      "execution_count": null,
      "outputs": [
        {
          "output_type": "stream",
          "text": [
            "f1 score: 0.6508107781862015\n"
          ],
          "name": "stdout"
        }
      ]
    },
    {
      "cell_type": "code",
      "metadata": {
        "colab": {
          "base_uri": "https://localhost:8080/"
        },
        "id": "H_Wtxf_y_qzh",
        "outputId": "b04430b7-27d5-4af0-9f19-cf1e85cdf8de"
      },
      "source": [
        "# Compute and print the classification report\r\n",
        "print(classification_report(y_test, y_pred))"
      ],
      "execution_count": null,
      "outputs": [
        {
          "output_type": "stream",
          "text": [
            "              precision    recall  f1-score   support\n",
            "\n",
            "           0       0.21      0.21      0.21      2133\n",
            "           1       0.78      0.78      0.78      7476\n",
            "\n",
            "    accuracy                           0.65      9609\n",
            "   macro avg       0.49      0.49      0.49      9609\n",
            "weighted avg       0.65      0.65      0.65      9609\n",
            "\n"
          ],
          "name": "stdout"
        }
      ]
    },
    {
      "cell_type": "code",
      "metadata": {
        "colab": {
          "base_uri": "https://localhost:8080/"
        },
        "id": "wgHQ5zjz_u_S",
        "outputId": "9e8c2db0-753d-4ab5-dc0e-9945f6dc0c09"
      },
      "source": [
        "# Call the modeling function for logistic regression with countvectorizer and print f1 score\r\n",
        "modeling(LogisticRegression(random_state = 42))\r\n",
        "\r\n",
        "# Assign y_pred to a variable for further process\r\n",
        "y_pred_cv_logreg = y_pred"
      ],
      "execution_count": null,
      "outputs": [
        {
          "output_type": "stream",
          "text": [
            "f1 score: 0.87911703947754\n"
          ],
          "name": "stdout"
        }
      ]
    },
    {
      "cell_type": "code",
      "metadata": {
        "colab": {
          "base_uri": "https://localhost:8080/"
        },
        "id": "qNeHw1QWFZ_a",
        "outputId": "d1c833d2-30ae-4976-d226-8fc4f35dc6c6"
      },
      "source": [
        "# Compute and print the classification report\r\n",
        "print(classification_report(y_test, y_pred_cv_logreg))"
      ],
      "execution_count": null,
      "outputs": [
        {
          "output_type": "stream",
          "text": [
            "              precision    recall  f1-score   support\n",
            "\n",
            "           0       0.76      0.68      0.72      2133\n",
            "           1       0.91      0.94      0.93      7476\n",
            "\n",
            "    accuracy                           0.88      9609\n",
            "   macro avg       0.84      0.81      0.82      9609\n",
            "weighted avg       0.88      0.88      0.88      9609\n",
            "\n"
          ],
          "name": "stdout"
        }
      ]
    },
    {
      "cell_type": "code",
      "metadata": {
        "colab": {
          "base_uri": "https://localhost:8080/",
          "height": 729
        },
        "id": "H6NNFCIDFxvJ",
        "outputId": "66d7f3d0-d3ec-4998-ad26-16068342c040"
      },
      "source": [
        "# Print confusion matrix for logistic regression with countvectorizer\r\n",
        "disp_confusion_matrix(y_pred_cv_logreg, \"Logistic Regression\")"
      ],
      "execution_count": null,
      "outputs": [
        {
          "output_type": "display_data",
          "data": {
            "image/png": "[encoded data removed]",
            "text/plain": [
              "<Figure size 720x720 with 2 Axes>"
            ]
          },
          "metadata": {
            "tags": [],
            "needs_background": "light"
          }
        }
      ]
    },
    {
      "cell_type": "code",
      "metadata": {
        "colab": {
          "base_uri": "https://localhost:8080/"
        },
        "id": "86cH37E4F0hQ",
        "outputId": "56bbbf08-d3ab-4815-e347-d425f8258ce6"
      },
      "source": [
        "# Call the modeling function for random forest classifier with countvectorizer and print f1 score\r\n",
        "modeling(RandomForestClassifier(n_estimators = 200, random_state = 42))\r\n",
        "\r\n",
        "# Assign y_pred to a variable for further process\r\n",
        "y_pred_cv_rf = y_pred"
      ],
      "execution_count": null,
      "outputs": [
        {
          "output_type": "stream",
          "text": [
            "f1 score: 0.9470737817997896\n"
          ],
          "name": "stdout"
        }
      ]
    },
    {
      "cell_type": "code",
      "metadata": {
        "colab": {
          "base_uri": "https://localhost:8080/"
        },
        "id": "DjlIa4zaF7Th",
        "outputId": "65d4210b-61c3-4c83-9dd1-6941f8e8a58b"
      },
      "source": [
        "# Compute and print the classification report\r\n",
        "print(classification_report(y_test, y_pred_cv_rf))"
      ],
      "execution_count": null,
      "outputs": [
        {
          "output_type": "stream",
          "text": [
            "              precision    recall  f1-score   support\n",
            "\n",
            "           0       0.99      0.78      0.87      2133\n",
            "           1       0.94      1.00      0.97      7476\n",
            "\n",
            "    accuracy                           0.95      9609\n",
            "   macro avg       0.97      0.89      0.92      9609\n",
            "weighted avg       0.95      0.95      0.95      9609\n",
            "\n"
          ],
          "name": "stdout"
        }
      ]
    },
    {
      "cell_type": "code",
      "metadata": {
        "colab": {
          "base_uri": "https://localhost:8080/",
          "height": 729
        },
        "id": "I6gKgp_sF_tL",
        "outputId": "87049fef-a8c0-43bd-dabf-5e5b853c9bf2"
      },
      "source": [
        "# Print confusion matrix for random forest classifier with countVectorizer\r\n",
        "disp_confusion_matrix(y_pred_cv_rf, \"Random Forest\")"
      ],
      "execution_count": null,
      "outputs": [
        {
          "output_type": "display_data",
          "data": {
            "image/png": "[encoded data removed]",
            "text/plain": [
              "<Figure size 720x720 with 2 Axes>"
            ]
          },
          "metadata": {
            "tags": [],
            "needs_background": "light"
          }
        }
      ]
    },
    {
      "cell_type": "code",
      "metadata": {
        "colab": {
          "base_uri": "https://localhost:8080/"
        },
        "id": "aPW-8YpYGFtp",
        "outputId": "f85ad6fb-d2c6-44a6-d7d8-48caae45b7a6"
      },
      "source": [
        "# Call the modeling function for naive bayes with countvectorizer and print f1 score\r\n",
        "modeling(MultinomialNB())\r\n",
        "\r\n",
        "# Assign y_pred to a variable for further process\r\n",
        "y_pred_cv_nb = y_pred"
      ],
      "execution_count": null,
      "outputs": [
        {
          "output_type": "stream",
          "text": [
            "f1 score: 0.8538505937007035\n"
          ],
          "name": "stdout"
        }
      ]
    },
    {
      "cell_type": "code",
      "metadata": {
        "colab": {
          "base_uri": "https://localhost:8080/"
        },
        "id": "4p0KvxS2HOov",
        "outputId": "1e053862-0c7e-4b0f-bdda-22c7d10ebd15"
      },
      "source": [
        "# Compute and print the classification report\r\n",
        "print(classification_report(y_test, y_pred_cv_nb))"
      ],
      "execution_count": null,
      "outputs": [
        {
          "output_type": "stream",
          "text": [
            "              precision    recall  f1-score   support\n",
            "\n",
            "           0       0.66      0.70      0.68      2133\n",
            "           1       0.91      0.90      0.90      7476\n",
            "\n",
            "    accuracy                           0.85      9609\n",
            "   macro avg       0.79      0.80      0.79      9609\n",
            "weighted avg       0.86      0.85      0.85      9609\n",
            "\n"
          ],
          "name": "stdout"
        }
      ]
    },
    {
      "cell_type": "code",
      "metadata": {
        "colab": {
          "base_uri": "https://localhost:8080/",
          "height": 729
        },
        "id": "T3ja-MMOHPR7",
        "outputId": "2a12001c-11d1-44b0-e610-93da9fa76cc2"
      },
      "source": [
        "# Print confusion matrix for naive bayes with countVectorizer\r\n",
        "disp_confusion_matrix(y_pred_cv_nb, \"Naive Bayes\")"
      ],
      "execution_count": null,
      "outputs": [
        {
          "output_type": "display_data",
          "data": {
            "image/png": "[encoded data removed]",
            "text/plain": [
              "<Figure size 720x720 with 2 Axes>"
            ]
          },
          "metadata": {
            "tags": [],
            "needs_background": "light"
          }
        }
      ]
    }
  ]
}